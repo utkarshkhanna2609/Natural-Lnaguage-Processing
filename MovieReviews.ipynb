{
  "nbformat": 4,
  "nbformat_minor": 0,
  "metadata": {
    "colab": {
      "provenance": []
    },
    "kernelspec": {
      "name": "python3",
      "display_name": "Python 3"
    },
    "language_info": {
      "name": "python"
    },
    "accelerator": "GPU",
    "gpuClass": "standard"
  },
  "cells": [
    {
      "cell_type": "code",
      "execution_count": 1,
      "metadata": {
        "colab": {
          "base_uri": "https://localhost:8080/"
        },
        "id": "N7SAsObJ0yHj",
        "outputId": "1b424593-7eb2-47c6-bafe-13197a652a29"
      },
      "outputs": [
        {
          "output_type": "stream",
          "name": "stdout",
          "text": [
            "Colab only includes TensorFlow 2.x; %tensorflow_version has no effect.\n",
            "Downloading data from https://storage.googleapis.com/tensorflow/tf-keras-datasets/imdb.npz\n",
            "17464789/17464789 [==============================] - 0s 0us/step\n"
          ]
        }
      ],
      "source": [
        "%tensorflow_version 2.x\n",
        "from keras.datasets import imdb\n",
        "from keras.preprocessing import sequence\n",
        "import tensorflow as tf\n",
        "import os\n",
        "import numpy as np\n",
        "\n",
        "VOCAB_SIZE=88584\n",
        "MAX_LEN=250\n",
        "BATCH=64\n",
        "(train_data, train_labels),(test_data, test_labels)=imdb.load_data(num_words=VOCAB_SIZE)"
      ]
    },
    {
      "cell_type": "code",
      "source": [
        "# Making the review inputs of same length to pass into the neural Network\n",
        "#from tensorflow.keras.preprocessing.sequence import pad_sequences\n",
        "\n",
        "train_data=tf.keras.utils.pad_sequences(train_data, MAX_LEN)\n",
        "test_data=tf.keras.utils.pad_sequences(test_data, MAX_LEN)"
      ],
      "metadata": {
        "id": "TTZa1oBx1xds"
      },
      "execution_count": 2,
      "outputs": []
    },
    {
      "cell_type": "code",
      "source": [
        "model=tf.keras.Sequential([\n",
        "    tf.keras.layers.Embedding(VOCAB_SIZE, 32),\n",
        "    tf.keras.layers.LSTM(32),\n",
        "    tf.keras.layers.Dense(1, activation = \"sigmoid\")\n",
        "])"
      ],
      "metadata": {
        "id": "O3iCG2GJ3PQZ"
      },
      "execution_count": 3,
      "outputs": []
    },
    {
      "cell_type": "code",
      "source": [
        "model.summary()"
      ],
      "metadata": {
        "colab": {
          "base_uri": "https://localhost:8080/"
        },
        "id": "-0-rBZwq9lLw",
        "outputId": "1a0e2caf-44fe-41b4-981a-7c7a6a8fe310"
      },
      "execution_count": 4,
      "outputs": [
        {
          "output_type": "stream",
          "name": "stdout",
          "text": [
            "Model: \"sequential\"\n",
            "_________________________________________________________________\n",
            " Layer (type)                Output Shape              Param #   \n",
            "=================================================================\n",
            " embedding (Embedding)       (None, None, 32)          2834688   \n",
            "                                                                 \n",
            " lstm (LSTM)                 (None, 32)                8320      \n",
            "                                                                 \n",
            " dense (Dense)               (None, 1)                 33        \n",
            "                                                                 \n",
            "=================================================================\n",
            "Total params: 2,843,041\n",
            "Trainable params: 2,843,041\n",
            "Non-trainable params: 0\n",
            "_________________________________________________________________\n"
          ]
        }
      ]
    },
    {
      "cell_type": "code",
      "source": [
        "model.compile(loss=\"binary_crossentropy\", optimizer=\"rmsprop\",metrics=['acc'])\n",
        "history=model.fit(train_data, train_labels,epochs=10,validation_split=0.2)"
      ],
      "metadata": {
        "colab": {
          "base_uri": "https://localhost:8080/"
        },
        "id": "8ylL8tT7_PFI",
        "outputId": "8cbbf25f-34a0-4130-c7ff-c05bc31cfbef"
      },
      "execution_count": 5,
      "outputs": [
        {
          "output_type": "stream",
          "name": "stdout",
          "text": [
            "Epoch 1/10\n",
            "625/625 [==============================] - 57s 80ms/step - loss: 0.4517 - acc: 0.7810 - val_loss: 0.3234 - val_acc: 0.8668\n",
            "Epoch 2/10\n",
            "625/625 [==============================] - 23s 37ms/step - loss: 0.2583 - acc: 0.8988 - val_loss: 0.2852 - val_acc: 0.8858\n",
            "Epoch 3/10\n",
            "625/625 [==============================] - 14s 23ms/step - loss: 0.2019 - acc: 0.9262 - val_loss: 0.2900 - val_acc: 0.8790\n",
            "Epoch 4/10\n",
            "625/625 [==============================] - 11s 18ms/step - loss: 0.1643 - acc: 0.9421 - val_loss: 0.2923 - val_acc: 0.8810\n",
            "Epoch 5/10\n",
            "625/625 [==============================] - 9s 15ms/step - loss: 0.1359 - acc: 0.9537 - val_loss: 0.3041 - val_acc: 0.8790\n",
            "Epoch 6/10\n",
            "625/625 [==============================] - 9s 14ms/step - loss: 0.1177 - acc: 0.9614 - val_loss: 0.3147 - val_acc: 0.8722\n",
            "Epoch 7/10\n",
            "625/625 [==============================] - 9s 14ms/step - loss: 0.0978 - acc: 0.9675 - val_loss: 0.3568 - val_acc: 0.8748\n",
            "Epoch 8/10\n",
            "625/625 [==============================] - 8s 13ms/step - loss: 0.0836 - acc: 0.9747 - val_loss: 0.3594 - val_acc: 0.8736\n",
            "Epoch 9/10\n",
            "625/625 [==============================] - 8s 13ms/step - loss: 0.0702 - acc: 0.9779 - val_loss: 0.4882 - val_acc: 0.8666\n",
            "Epoch 10/10\n",
            "625/625 [==============================] - 7s 12ms/step - loss: 0.0600 - acc: 0.9821 - val_loss: 0.4606 - val_acc: 0.8794\n"
          ]
        }
      ]
    },
    {
      "cell_type": "code",
      "source": [
        "results=model.evaluate(test_data,test_labels)\n",
        "print(results)"
      ],
      "metadata": {
        "colab": {
          "base_uri": "https://localhost:8080/"
        },
        "id": "PxxR8nBQAipw",
        "outputId": "6532aa1a-d7cb-4c26-d275-4e92684cad2a"
      },
      "execution_count": 7,
      "outputs": [
        {
          "output_type": "stream",
          "name": "stdout",
          "text": [
            "782/782 [==============================] - 4s 6ms/step - loss: 0.5355 - acc: 0.8587\n",
            "[0.5355368852615356, 0.8587200045585632]\n"
          ]
        }
      ]
    },
    {
      "cell_type": "code",
      "source": [
        "word_index= imdb.get_word_index()\n",
        "\n",
        "def encode_text(text):\n",
        "  tokens=keras.preprocessing.text.text_to_word_sequence(text)\n",
        "  tokens=[word_index[word] if word in word_index else 0 for word in tokens]\n",
        "  return tf.keras.utils.pad_sequences([tokens],MAX_LEN)[0]\n",
        "\n",
        "text=\"the movie was Amazing! I loved it\"\n",
        "encoded=encode_text(text)\n",
        "print(encoded)"
      ],
      "metadata": {
        "colab": {
          "base_uri": "https://localhost:8080/"
        },
        "id": "W8mMfBF_B3Wn",
        "outputId": "250fb9db-8f94-490d-c936-3fd8a33049d4"
      },
      "execution_count": 13,
      "outputs": [
        {
          "output_type": "stream",
          "name": "stdout",
          "text": [
            "[  0   0   0   0   0   0   0   0   0   0   0   0   0   0   0   0   0   0\n",
            "   0   0   0   0   0   0   0   0   0   0   0   0   0   0   0   0   0   0\n",
            "   0   0   0   0   0   0   0   0   0   0   0   0   0   0   0   0   0   0\n",
            "   0   0   0   0   0   0   0   0   0   0   0   0   0   0   0   0   0   0\n",
            "   0   0   0   0   0   0   0   0   0   0   0   0   0   0   0   0   0   0\n",
            "   0   0   0   0   0   0   0   0   0   0   0   0   0   0   0   0   0   0\n",
            "   0   0   0   0   0   0   0   0   0   0   0   0   0   0   0   0   0   0\n",
            "   0   0   0   0   0   0   0   0   0   0   0   0   0   0   0   0   0   0\n",
            "   0   0   0   0   0   0   0   0   0   0   0   0   0   0   0   0   0   0\n",
            "   0   0   0   0   0   0   0   0   0   0   0   0   0   0   0   0   0   0\n",
            "   0   0   0   0   0   0   0   0   0   0   0   0   0   0   0   0   0   0\n",
            "   0   0   0   0   0   0   0   0   0   0   0   0   0   0   0   0   0   0\n",
            "   0   0   0   0   0   0   0   0   0   0   0   0   0   0   0   0   0   0\n",
            "   0   0   0   0   0   0   0   0   0   1  17  13 477  10 444   9]\n"
          ]
        }
      ]
    },
    {
      "cell_type": "code",
      "source": [
        "reverse_word_index={value: key for (key, value) in word_index.items()}\n",
        "\n",
        "def decode_text(integers):\n",
        "  PAD=0\n",
        "  text=\"\"\n",
        "  for num in integers:\n",
        "    if num!=PAD:\n",
        "      text+=reverse_word_index[num] + \" \"\n",
        "  return text[:-1]\n",
        "\n",
        "print(decode_text(encoded))"
      ],
      "metadata": {
        "colab": {
          "base_uri": "https://localhost:8080/"
        },
        "id": "kUI-E1MRFL8d",
        "outputId": "00124b54-23a6-498d-98f8-7ddfb5ed0885"
      },
      "execution_count": 14,
      "outputs": [
        {
          "output_type": "stream",
          "name": "stdout",
          "text": [
            "the movie was amazing i loved it\n"
          ]
        }
      ]
    },
    {
      "cell_type": "code",
      "source": [
        "def predict_text(text):\n",
        "  encoded_text=encode_text(text)\n",
        "  pred=np.zeros((1,250))\n",
        "  pred[0]=encoded_text\n",
        "  result=model.predict(pred)\n",
        "  return result[0]\n",
        "\n",
        "def positiveOrNegative(result):\n",
        "  if result<0.5:\n",
        "    print(\"negative\")\n",
        "  else:\n",
        "    print(\"positive\")\n",
        "\n",
        "#positive\n",
        "pos=\"The movie was amazing, I loved it!\"\n",
        "print(\"The review is: \")\n",
        "positiveOrNegative(predict_text(pos))\n",
        "\n",
        "#negative\n",
        "neg=\"cringe. I will never watch it again\"\n",
        "print(\"The review is: \")\n",
        "positiveOrNegative(predict_text(neg))"
      ],
      "metadata": {
        "colab": {
          "base_uri": "https://localhost:8080/"
        },
        "id": "R-9D82WUFnca",
        "outputId": "91d0ecdc-bb12-4c3d-e500-95ff1332e2c8"
      },
      "execution_count": 21,
      "outputs": [
        {
          "output_type": "stream",
          "name": "stdout",
          "text": [
            "The review is: \n",
            "1/1 [==============================] - 0s 26ms/step\n",
            "positive\n",
            "The review is: \n",
            "1/1 [==============================] - 0s 26ms/step\n",
            "negative\n"
          ]
        }
      ]
    },
    {
      "cell_type": "code",
      "source": [],
      "metadata": {
        "id": "ngbjiVqbHYaR"
      },
      "execution_count": null,
      "outputs": []
    }
  ]
}