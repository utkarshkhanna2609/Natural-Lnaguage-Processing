{
  "nbformat": 4,
  "nbformat_minor": 0,
  "metadata": {
    "colab": {
      "provenance": []
    },
    "kernelspec": {
      "name": "python3",
      "display_name": "Python 3"
    },
    "language_info": {
      "name": "python"
    }
  },
  "cells": [
    {
      "cell_type": "code",
      "execution_count": 2,
      "metadata": {
        "colab": {
          "base_uri": "https://localhost:8080/"
        },
        "id": "6uO_Gk8FRUvs",
        "outputId": "2deddd2a-325f-445c-fd13-8fa88e9b5f72"
      },
      "outputs": [
        {
          "output_type": "stream",
          "name": "stdout",
          "text": [
            "{1: 3, 2: 1, 3: 1, 4: 1, 5: 1, 6: 1}\n",
            "{'hi': 1, 'this': 2, 'is': 3, 'a': 4, 'test': 5, 'text': 6}\n"
          ]
        }
      ],
      "source": [
        "vocab={}\n",
        "word_encode=1\n",
        "def bag_of_words(text):\n",
        "  global word_encode\n",
        "  words=text.lower().split(\" \")\n",
        "  bag={ }\n",
        "\n",
        "  for word in words:\n",
        "    if word in vocab:\n",
        "      encoding=vocab[word]\n",
        "    else:\n",
        "      vocab[word]=word_encode\n",
        "      encoding=word_encode\n",
        "      word_encode+=1\n",
        "    if encoding in bag:\n",
        "      bag[encoding]+=1\n",
        "    else:\n",
        "      bag[encoding]=1\n",
        "  return bag\n",
        "\n",
        "test=\"hi hi hi this is a test text\"\n",
        "bag=bag_of_words(test)\n",
        "print(bag)\n",
        "print(vocab)"
      ]
    },
    {
      "cell_type": "code",
      "source": [],
      "metadata": {
        "id": "6LbTI8pZWt58"
      },
      "execution_count": null,
      "outputs": []
    },
    {
      "cell_type": "code",
      "source": [],
      "metadata": {
        "id": "WJQWyZj-XRs8"
      },
      "execution_count": null,
      "outputs": []
    }
  ]
}